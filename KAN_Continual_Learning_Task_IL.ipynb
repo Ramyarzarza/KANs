{
  "cells": [
    {
      "cell_type": "markdown",
      "metadata": {},
      "source": [
        "<div class=\"alert alert-success\"> \n",
        "        <h1 align=\"center\" style=\"color:chocolate;\">KANs for Task Incremental Learning\n",
        "</h1>  \n",
        "     \n",
        "</div>"
      ]
    },
    {
      "cell_type": "markdown",
      "metadata": {},
      "source": [
        "<div style=\"border-radius:10px; border:#DEB887 solid; padding: 15px; background-color: white; font-size:100%; text-align:left\">\n",
        "\n",
        "<h3 align=\"center\"><font color='#DAA520'>Overview</font></h3>\n",
        "    \n",
        "* In this notebook I implement a Kolmogorov-Arnold Network (KAN) for Loan Approval Prediction and compare it against a neural network of a similar architecture.\n",
        "* this dataset has more data than breast canser prediction and we want to assess KANs on larger datasets.\n",
        "* The dataset is from Kaggle, available at this https://www.kaggle.com/competitions/playground-series-s4e10\n",
        "    \n",
        "\n"
      ]
    },
    {
      "cell_type": "markdown",
      "metadata": {
        "id": "LHPqAfoY0TO0"
      },
      "source": [
        "# Import Packages\n"
      ]
    },
    {
      "cell_type": "code",
      "execution_count": 8,
      "metadata": {
        "colab": {
          "base_uri": "https://localhost:8080/"
        },
        "id": "qrVEGBzEcUQc",
        "outputId": "cedab461-6d85-40be-e13a-d29040484853"
      },
      "outputs": [],
      "source": [
        "import torch\n",
        "from kan import KAN\n",
        "import matplotlib.pyplot as plt\n",
        "from sklearn.datasets import load_digits\n",
        "from sklearn.model_selection import train_test_split\n",
        "from sklearn.preprocessing import MinMaxScaler\n",
        "import pandas as pd\n",
        "import numpy as np\n",
        "\n",
        "device = 'cuda'"
      ]
    },
    {
      "cell_type": "markdown",
      "metadata": {
        "id": "7RE1svm9cXkX"
      },
      "source": [
        "## Loading the Dataset"
      ]
    },
    {
      "cell_type": "code",
      "execution_count": 9,
      "metadata": {},
      "outputs": [
        {
          "name": "stdout",
          "output_type": "stream",
          "text": [
            "\n",
            "Training on Task 1: 0 vs 1\n",
            "Epoch [1/3], Loss: 0.0006\n",
            "Epoch [2/3], Loss: 0.0021\n",
            "Epoch [3/3], Loss: 0.0000\n",
            "Test Accuracy: 100.00%\n",
            "\n",
            "Training on Task 2: 2 vs 3\n",
            "Epoch [1/3], Loss: 0.0784\n",
            "Epoch [2/3], Loss: 0.0710\n",
            "Epoch [3/3], Loss: 0.2196\n",
            "Test Accuracy: 97.45%\n",
            "\n",
            "Training on Task 3: 4 vs 5\n",
            "Epoch [1/3], Loss: 0.0495\n",
            "Epoch [2/3], Loss: 0.0099\n",
            "Epoch [3/3], Loss: 0.0660\n",
            "Test Accuracy: 98.67%\n",
            "\n",
            "Training on Task 4: 6 vs 7\n",
            "Epoch [1/3], Loss: 0.0023\n",
            "Epoch [2/3], Loss: 0.0002\n",
            "Epoch [3/3], Loss: 0.0023\n",
            "Test Accuracy: 99.55%\n",
            "\n",
            "Training on Task 5: 8 vs 9\n",
            "Epoch [1/3], Loss: 0.1365\n",
            "Epoch [2/3], Loss: 0.0589\n",
            "Epoch [3/3], Loss: 0.0532\n",
            "Test Accuracy: 97.63%\n"
          ]
        }
      ],
      "source": [
        "import torch\n",
        "import torch.nn as nn\n",
        "import torch.optim as optim\n",
        "from torch.utils.data import DataLoader, Subset\n",
        "from torchvision import datasets, transforms\n",
        "\n",
        "# Define a simple neural network\n",
        "class SimpleNN(nn.Module):\n",
        "    def __init__(self):\n",
        "        super(SimpleNN, self).__init__()\n",
        "        self.fc1 = nn.Linear(28 * 28, 128)\n",
        "        self.fc2 = nn.Linear(128, 64)\n",
        "        self.fc3 = nn.Linear(64, 1)  # Output layer for binary classification\n",
        "\n",
        "    def forward(self, x):\n",
        "        x = x.view(-1, 28 * 28)  # Flatten the input\n",
        "        x = torch.relu(self.fc1(x))\n",
        "        x = torch.relu(self.fc2(x))\n",
        "        x = torch.sigmoid(self.fc3(x))  # Sigmoid for binary classification\n",
        "        return x\n",
        "\n",
        "# Prepare the MNIST dataset\n",
        "transform = transforms.Compose([transforms.ToTensor()])\n",
        "mnist_dataset = datasets.MNIST(root='./data', train=False, transform=transform, download=True)\n",
        "\n",
        "# Function to create binary classification tasks\n",
        "def get_task_dataset(dataset, digit1, digit2):\n",
        "    # Select indices for the two digits\n",
        "    indices = [i for i, (x, y) in enumerate(dataset) if y == digit1 or y == digit2]\n",
        "    task_dataset = Subset(dataset, indices)\n",
        "    return task_dataset\n",
        "\n",
        "# Define training function\n",
        "def train(model, dataloader, criterion, optimizer, epochs=3):\n",
        "    model.train()\n",
        "    for epoch in range(epochs):\n",
        "        for images, labels in dataloader:\n",
        "            # Convert labels to binary (e.g., digit1=0, digit2=1)\n",
        "            labels = (labels == digit2).float().view(-1, 1)  # Set digit2 as label 1\n",
        "            images, labels = images.to(device), labels.to(device)\n",
        "            optimizer.zero_grad()\n",
        "            outputs = model(images)\n",
        "            loss = criterion(outputs, labels)\n",
        "            loss.backward()\n",
        "            optimizer.step()\n",
        "        print(f\"Epoch [{epoch+1}/{epochs}], Loss: {loss.item():.4f}\")\n",
        "\n",
        "# Define testing function\n",
        "def test(model, dataloader):\n",
        "    model.eval()\n",
        "    correct, total = 0, 0\n",
        "    with torch.no_grad():\n",
        "        for images, labels in dataloader:\n",
        "            labels = (labels == digit2).float().view(-1, 1)  # Set digit2 as label 1\n",
        "            images, labels = images.to(device), labels.to(device)\n",
        "            outputs = model(images)\n",
        "            predicted = (outputs > 0.5).float()  # Classify as 0 or 1 based on threshold\n",
        "            total += labels.size(0)\n",
        "            correct += (predicted == labels).sum().item()\n",
        "    print(f\"Test Accuracy: {100 * correct / total:.2f}%\")\n",
        "\n",
        "# Set device, criterion, and optimizer\n",
        "device = torch.device(\"cuda\" if torch.cuda.is_available() else \"cpu\")\n",
        "model = SimpleNN().to(device)\n",
        "criterion = nn.BCELoss()\n",
        "optimizer = optim.Adam(model.parameters(), lr=0.001)\n",
        "\n",
        "# Define tasks and train separately on each task\n",
        "tasks = [(0, 1), (2, 3), (4, 5), (6, 7), (8, 9)]\n",
        "for task_num, (digit1, digit2) in enumerate(tasks, 1):\n",
        "    print(f\"\\nTraining on Task {task_num}: {digit1} vs {digit2}\")\n",
        "    task_dataset = get_task_dataset(mnist_dataset, digit1, digit2)\n",
        "    dataloader = DataLoader(task_dataset, batch_size=64, shuffle=True)\n",
        "    \n",
        "    # Train and test on the current task\n",
        "    train(model, dataloader, criterion, optimizer)\n",
        "    test(model, dataloader)\n",
        "\n"
      ]
    },
    {
      "cell_type": "code",
      "execution_count": 10,
      "metadata": {},
      "outputs": [
        {
          "name": "stdout",
          "output_type": "stream",
          "text": [
            "\n",
            "Training on Task 1: 0 vs 1\n",
            "Test Accuracy: 41.56%\n",
            "\n",
            "Training on Task 2: 2 vs 3\n",
            "Test Accuracy: 47.75%\n",
            "\n",
            "Training on Task 3: 4 vs 5\n",
            "Test Accuracy: 7.42%\n",
            "\n",
            "Training on Task 4: 6 vs 7\n",
            "Test Accuracy: 83.84%\n",
            "\n",
            "Training on Task 5: 8 vs 9\n",
            "Test Accuracy: 97.63%\n"
          ]
        }
      ],
      "source": [
        "for task_num, (digit1, digit2) in enumerate(tasks, 1):\n",
        "    print(f\"\\nTraining on Task {task_num}: {digit1} vs {digit2}\")\n",
        "    task_dataset = get_task_dataset(mnist_dataset, digit1, digit2)\n",
        "    dataloader = DataLoader(task_dataset, batch_size=64, shuffle=True)\n",
        "    \n",
        "    # Train and test on the current task\n",
        "    test(model, dataloader)"
      ]
    },
    {
      "cell_type": "code",
      "execution_count": 11,
      "metadata": {},
      "outputs": [
        {
          "name": "stdout",
          "output_type": "stream",
          "text": [
            "tensor([[[0.0000, 0.0000, 0.0000, 0.0000, 0.0000, 0.0000, 0.0000, 0.0000,\n",
            "          0.0000, 0.0000, 0.0000, 0.0000, 0.0000, 0.0000, 0.0000, 0.0000,\n",
            "          0.0000, 0.0000, 0.0000, 0.0000, 0.0000, 0.0000, 0.0000, 0.0000,\n",
            "          0.0000, 0.0000, 0.0000, 0.0000],\n",
            "         [0.0000, 0.0000, 0.0000, 0.0000, 0.0000, 0.0000, 0.0000, 0.0000,\n",
            "          0.0000, 0.0000, 0.0000, 0.0000, 0.0000, 0.0000, 0.0000, 0.0000,\n",
            "          0.0000, 0.0000, 0.0000, 0.0000, 0.0000, 0.0000, 0.0000, 0.0000,\n",
            "          0.0000, 0.0000, 0.0000, 0.0000],\n",
            "         [0.0000, 0.0000, 0.0000, 0.0000, 0.0000, 0.0000, 0.0000, 0.0000,\n",
            "          0.0000, 0.0000, 0.0000, 0.0000, 0.0000, 0.0000, 0.0000, 0.0000,\n",
            "          0.0000, 0.0000, 0.0000, 0.0000, 0.0000, 0.0000, 0.0000, 0.0000,\n",
            "          0.0000, 0.0000, 0.0000, 0.0000],\n",
            "         [0.0000, 0.0000, 0.0000, 0.0000, 0.0000, 0.0000, 0.0000, 0.0000,\n",
            "          0.0000, 0.0000, 0.0000, 0.0000, 0.0000, 0.0000, 0.0000, 0.0000,\n",
            "          0.0000, 0.0000, 0.0000, 0.0000, 0.0000, 0.0000, 0.0000, 0.0000,\n",
            "          0.0000, 0.0000, 0.0000, 0.0000],\n",
            "         [0.0000, 0.0000, 0.0000, 0.0000, 0.0000, 0.0000, 0.0000, 0.0000,\n",
            "          0.0000, 0.0000, 0.0000, 0.0000, 0.0000, 0.0000, 0.0000, 0.2471,\n",
            "          1.0000, 0.9922, 0.9922, 0.6667, 0.2471, 0.0000, 0.0000, 0.0000,\n",
            "          0.0000, 0.0000, 0.0000, 0.0000],\n",
            "         [0.0000, 0.0000, 0.0000, 0.0000, 0.0000, 0.0000, 0.0000, 0.0000,\n",
            "          0.0000, 0.0000, 0.0000, 0.0000, 0.0000, 0.0000, 0.1255, 0.9294,\n",
            "          0.9922, 0.9882, 0.9882, 0.9882, 0.9333, 0.2824, 0.0000, 0.0000,\n",
            "          0.0000, 0.0000, 0.0000, 0.0000],\n",
            "         [0.0000, 0.0000, 0.0000, 0.0000, 0.0000, 0.0000, 0.0000, 0.0000,\n",
            "          0.0000, 0.0000, 0.0000, 0.0000, 0.0000, 0.1255, 0.5882, 0.9882,\n",
            "          0.9922, 0.9882, 0.9882, 0.9882, 0.9922, 0.7451, 0.0431, 0.0000,\n",
            "          0.0000, 0.0000, 0.0000, 0.0000],\n",
            "         [0.0000, 0.0000, 0.0000, 0.0000, 0.0000, 0.0000, 0.0000, 0.0000,\n",
            "          0.0000, 0.0000, 0.0000, 0.0039, 0.2471, 0.9294, 0.9882, 0.9882,\n",
            "          0.9922, 0.9882, 0.9882, 0.9882, 0.9922, 0.9882, 0.6039, 0.0000,\n",
            "          0.0000, 0.0000, 0.0000, 0.0000],\n",
            "         [0.0000, 0.0000, 0.0000, 0.0000, 0.0000, 0.0000, 0.0000, 0.0000,\n",
            "          0.0000, 0.0000, 0.0000, 0.5647, 0.9922, 0.9882, 0.9882, 0.9882,\n",
            "          0.5647, 0.0000, 0.0824, 0.8039, 0.9922, 0.9882, 0.8431, 0.0000,\n",
            "          0.0000, 0.0000, 0.0000, 0.0000],\n",
            "         [0.0000, 0.0000, 0.0000, 0.0000, 0.0000, 0.0000, 0.0000, 0.0000,\n",
            "          0.0000, 0.0824, 0.3686, 0.9294, 0.9922, 0.9882, 0.9451, 0.3804,\n",
            "          0.0784, 0.0000, 0.0000, 0.0784, 0.9922, 0.9882, 0.8863, 0.1216,\n",
            "          0.0000, 0.0000, 0.0000, 0.0000],\n",
            "         [0.0000, 0.0000, 0.0000, 0.0000, 0.0000, 0.0000, 0.0000, 0.0000,\n",
            "          0.0000, 0.3686, 0.9882, 0.9882, 0.9922, 0.9882, 0.7647, 0.0000,\n",
            "          0.0000, 0.0000, 0.0000, 0.0000, 0.9922, 0.9882, 0.9647, 0.3608,\n",
            "          0.0000, 0.0000, 0.0000, 0.0000],\n",
            "         [0.0000, 0.0000, 0.0000, 0.0000, 0.0000, 0.0000, 0.0000, 0.0000,\n",
            "          0.0000, 0.8510, 0.9882, 0.9882, 0.9922, 0.8235, 0.1216, 0.0000,\n",
            "          0.0000, 0.0000, 0.0000, 0.0000, 0.9922, 0.9882, 0.8431, 0.0000,\n",
            "          0.0000, 0.0000, 0.0000, 0.0000],\n",
            "         [0.0000, 0.0000, 0.0000, 0.0000, 0.0000, 0.0000, 0.0000, 0.0039,\n",
            "          0.6706, 0.9922, 0.9922, 0.9922, 0.8157, 0.0784, 0.0000, 0.0000,\n",
            "          0.0000, 0.0000, 0.0000, 0.5686, 1.0000, 0.9922, 0.9098, 0.1843,\n",
            "          0.0000, 0.0000, 0.0000, 0.0000],\n",
            "         [0.0000, 0.0000, 0.0000, 0.0000, 0.0000, 0.0000, 0.0000, 0.1647,\n",
            "          0.9882, 0.9882, 0.9882, 0.8235, 0.0784, 0.0000, 0.0000, 0.0000,\n",
            "          0.0000, 0.0000, 0.0431, 0.6863, 0.9922, 0.9882, 0.9882, 0.4235,\n",
            "          0.0000, 0.0000, 0.0000, 0.0000],\n",
            "         [0.0000, 0.0000, 0.0000, 0.0000, 0.0000, 0.0431, 0.5490, 0.8667,\n",
            "          0.9882, 0.9882, 0.8039, 0.1216, 0.0000, 0.0000, 0.0000, 0.0000,\n",
            "          0.0000, 0.0000, 0.2275, 0.9882, 0.9922, 0.9882, 0.8039, 0.1216,\n",
            "          0.0000, 0.0000, 0.0000, 0.0000],\n",
            "         [0.0000, 0.0000, 0.0000, 0.0000, 0.0000, 0.2863, 0.9882, 0.9882,\n",
            "          0.9882, 0.8235, 0.1216, 0.0000, 0.0000, 0.0000, 0.0000, 0.0000,\n",
            "          0.0000, 0.0000, 0.7098, 0.9882, 0.9922, 0.9882, 0.2784, 0.0000,\n",
            "          0.0000, 0.0000, 0.0000, 0.0000],\n",
            "         [0.0000, 0.0000, 0.0000, 0.0000, 0.1843, 0.9137, 0.9922, 0.9922,\n",
            "          0.9922, 0.4667, 0.0000, 0.0000, 0.0000, 0.0000, 0.0000, 0.0000,\n",
            "          0.0000, 0.0000, 0.7137, 0.9922, 1.0000, 0.7059, 0.0000, 0.0000,\n",
            "          0.0000, 0.0000, 0.0000, 0.0000],\n",
            "         [0.0000, 0.0000, 0.0000, 0.0000, 0.4275, 0.9882, 0.9882, 0.9882,\n",
            "          0.4627, 0.0196, 0.0000, 0.0000, 0.0000, 0.0000, 0.0000, 0.0000,\n",
            "          0.0000, 0.2471, 0.9490, 0.9882, 0.9922, 0.7020, 0.0000, 0.0000,\n",
            "          0.0000, 0.0000, 0.0000, 0.0000],\n",
            "         [0.0000, 0.0000, 0.0000, 0.0000, 0.8314, 0.9882, 0.9882, 0.9882,\n",
            "          0.0000, 0.0000, 0.0000, 0.0000, 0.0000, 0.0000, 0.0000, 0.0000,\n",
            "          0.0627, 0.7098, 0.9882, 0.9882, 0.9922, 0.2980, 0.0000, 0.0000,\n",
            "          0.0000, 0.0000, 0.0000, 0.0000],\n",
            "         [0.0000, 0.0000, 0.0000, 0.0000, 0.9922, 0.9882, 0.9882, 0.9882,\n",
            "          0.0000, 0.0000, 0.0000, 0.0000, 0.0000, 0.0000, 0.0000, 0.3294,\n",
            "          0.7490, 0.9882, 0.9882, 0.9882, 0.4235, 0.0588, 0.0000, 0.0000,\n",
            "          0.0000, 0.0000, 0.0000, 0.0000],\n",
            "         [0.0000, 0.0000, 0.0000, 0.0000, 0.7529, 0.9922, 0.9922, 0.9922,\n",
            "          0.9922, 0.9922, 0.9922, 0.9922, 1.0000, 0.9922, 0.9922, 0.9922,\n",
            "          1.0000, 0.9922, 0.9922, 0.7490, 0.0000, 0.0000, 0.0000, 0.0000,\n",
            "          0.0000, 0.0000, 0.0000, 0.0000],\n",
            "         [0.0000, 0.0000, 0.0000, 0.0000, 0.4275, 0.9882, 0.9882, 0.9882,\n",
            "          0.9882, 0.9882, 0.9882, 0.9882, 0.9922, 0.9882, 0.9882, 0.9882,\n",
            "          0.9922, 0.9882, 0.7020, 0.0588, 0.0000, 0.0000, 0.0000, 0.0000,\n",
            "          0.0000, 0.0000, 0.0000, 0.0000],\n",
            "         [0.0000, 0.0000, 0.0000, 0.0000, 0.1216, 0.4431, 0.8667, 0.9882,\n",
            "          0.9882, 0.9882, 0.9882, 0.9882, 0.9922, 0.9882, 0.9882, 0.9882,\n",
            "          0.6039, 0.2784, 0.0784, 0.0000, 0.0000, 0.0000, 0.0000, 0.0000,\n",
            "          0.0000, 0.0000, 0.0000, 0.0000],\n",
            "         [0.0000, 0.0000, 0.0000, 0.0000, 0.0000, 0.0000, 0.0627, 0.4235,\n",
            "          0.4235, 0.9098, 0.9882, 0.9882, 0.9922, 0.9882, 0.9059, 0.4235,\n",
            "          0.0000, 0.0000, 0.0000, 0.0000, 0.0000, 0.0000, 0.0000, 0.0000,\n",
            "          0.0000, 0.0000, 0.0000, 0.0000],\n",
            "         [0.0000, 0.0000, 0.0000, 0.0000, 0.0000, 0.0000, 0.0000, 0.0000,\n",
            "          0.0000, 0.0000, 0.0000, 0.0000, 0.0000, 0.0000, 0.0000, 0.0000,\n",
            "          0.0000, 0.0000, 0.0000, 0.0000, 0.0000, 0.0000, 0.0000, 0.0000,\n",
            "          0.0000, 0.0000, 0.0000, 0.0000],\n",
            "         [0.0000, 0.0000, 0.0000, 0.0000, 0.0000, 0.0000, 0.0000, 0.0000,\n",
            "          0.0000, 0.0000, 0.0000, 0.0000, 0.0000, 0.0000, 0.0000, 0.0000,\n",
            "          0.0000, 0.0000, 0.0000, 0.0000, 0.0000, 0.0000, 0.0000, 0.0000,\n",
            "          0.0000, 0.0000, 0.0000, 0.0000],\n",
            "         [0.0000, 0.0000, 0.0000, 0.0000, 0.0000, 0.0000, 0.0000, 0.0000,\n",
            "          0.0000, 0.0000, 0.0000, 0.0000, 0.0000, 0.0000, 0.0000, 0.0000,\n",
            "          0.0000, 0.0000, 0.0000, 0.0000, 0.0000, 0.0000, 0.0000, 0.0000,\n",
            "          0.0000, 0.0000, 0.0000, 0.0000],\n",
            "         [0.0000, 0.0000, 0.0000, 0.0000, 0.0000, 0.0000, 0.0000, 0.0000,\n",
            "          0.0000, 0.0000, 0.0000, 0.0000, 0.0000, 0.0000, 0.0000, 0.0000,\n",
            "          0.0000, 0.0000, 0.0000, 0.0000, 0.0000, 0.0000, 0.0000, 0.0000,\n",
            "          0.0000, 0.0000, 0.0000, 0.0000]]])\n"
          ]
        }
      ],
      "source": [
        "import torch\n",
        "from torch.utils.data import Subset, random_split\n",
        "from torchvision import datasets, transforms\n",
        "\n",
        "# Prepare the MNIST dataset\n",
        "transform = transforms.Compose([transforms.ToTensor()])\n",
        "mnist_dataset = datasets.MNIST(root='./data', train=False, transform=transform, download=True)\n",
        "\n",
        "# Function to create binary classification tasks and return data as dictionary\n",
        "def get_task_dataset(dataset, digit1, digit2, train_ratio=0.8):\n",
        "    # Select indices for the two digits\n",
        "    indices = [i for i, (x, y) in enumerate(dataset) if y == digit1 or y == digit2]\n",
        "    \n",
        "    # Create subset of dataset with just the selected digits\n",
        "    task_dataset = Subset(dataset, indices)\n",
        "    \n",
        "    # Split into training and testing based on train_ratio\n",
        "    train_size = int(train_ratio * len(task_dataset))\n",
        "    test_size = len(task_dataset) - train_size\n",
        "    train_subset, test_subset = random_split(task_dataset, [train_size, test_size])\n",
        "    \n",
        "    # Extract inputs and labels for training and testing\n",
        "    train_x = torch.stack([train_subset[i][0] for i in range(len(train_subset))])\n",
        "    train_y = torch.tensor([train_subset[i][1] for i in range(len(train_subset))])\n",
        "    test_x = torch.stack([test_subset[i][0] for i in range(len(test_subset))])\n",
        "    test_y = torch.tensor([test_subset[i][1] for i in range(len(test_subset))])\n",
        "    \n",
        "    # Organize data into the specified dictionary format\n",
        "    dataset_dict = {\n",
        "        'train_input': train_x.to(device),\n",
        "        'train_label': train_y.to(device),\n",
        "        'test_input': test_x.to(device),\n",
        "        'test_label': test_y.to(device)\n",
        "    }\n",
        "    \n",
        "    return dataset_dict\n",
        "\n",
        "# Example usage for Task 1 (0 vs 1)\n",
        "device = 'cpu'\n",
        "task_data = get_task_dataset(mnist_dataset, digit1=0, digit2=1)\n",
        "print(task_data['train_input'][0])"
      ]
    },
    {
      "cell_type": "markdown",
      "metadata": {},
      "source": [
        "## Creating and Training the KAN"
      ]
    },
    {
      "cell_type": "code",
      "execution_count": 12,
      "metadata": {
        "colab": {
          "base_uri": "https://localhost:8080/",
          "height": 862
        },
        "id": "xkjQDBTnNFHw",
        "outputId": "3feb9173-abf1-41ed-e20c-55eed662a0a3"
      },
      "outputs": [
        {
          "name": "stdout",
          "output_type": "stream",
          "text": [
            "checkpoint directory created: ./model\n",
            "saving model version 0.0\n"
          ]
        }
      ],
      "source": [
        "from kan import KAN\n",
        "\n",
        "model = KAN(width=[784, 2], grid=50, k=3, seed=0, device=device, noise_scale=0.1, sp_trainable=False, sb_trainable=False, base_fun='zero')"
      ]
    },
    {
      "cell_type": "code",
      "execution_count": 13,
      "metadata": {
        "id": "OhNKU6T1iLWe"
      },
      "outputs": [],
      "source": [
        "def train_acc():\n",
        "    return torch.mean((torch.argmax(model(task_dataset['train_input']), dim=1) == task_dataset['train_label']).float())\n",
        "\n",
        "def test_acc():\n",
        "    return torch.mean((torch.argmax(model(task_dataset['test_input']), dim=1) == task_dataset['test_label']).float())"
      ]
    },
    {
      "cell_type": "code",
      "execution_count": 14,
      "metadata": {},
      "outputs": [
        {
          "name": "stdout",
          "output_type": "stream",
          "text": [
            "\n",
            "Training on Task 1: 0 vs 1\n"
          ]
        },
        {
          "name": "stderr",
          "output_type": "stream",
          "text": [
            "| train_loss: 0.00e+00 | test_loss: 1.12e-01 | reg: 1.31e+02 | : 100%|█| 5/5 [01:33<00:00, 18.68s/it\n"
          ]
        },
        {
          "name": "stdout",
          "output_type": "stream",
          "text": [
            "saving model version 0.1\n",
            "Training Accuracy : 1.0\n",
            "Test Accuracy : 0.9976359605789185\n",
            "\n",
            "Training on Task 2: 2 vs 3\n"
          ]
        },
        {
          "name": "stderr",
          "output_type": "stream",
          "text": [
            "| train_loss: 0.00e+00 | test_loss: 7.55e-01 | reg: 4.91e+02 | : 100%|█| 5/5 [01:40<00:00, 20.11s/it\n"
          ]
        },
        {
          "name": "stdout",
          "output_type": "stream",
          "text": [
            "saving model version 0.2\n",
            "Training Accuracy : 1.0\n",
            "Test Accuracy : 0.9657701849937439\n",
            "\n",
            "Training on Task 3: 4 vs 5\n"
          ]
        },
        {
          "name": "stderr",
          "output_type": "stream",
          "text": [
            "| train_loss: 1.99e-05 | test_loss: 3.49e-01 | reg: 5.55e+02 | : 100%|█| 5/5 [01:33<00:00, 18.63s/it\n"
          ]
        },
        {
          "name": "stdout",
          "output_type": "stream",
          "text": [
            "saving model version 0.3\n",
            "Training Accuracy : 1.0\n",
            "Test Accuracy : 0.9866666793823242\n",
            "\n",
            "Training on Task 4: 6 vs 7\n"
          ]
        },
        {
          "name": "stderr",
          "output_type": "stream",
          "text": [
            "| train_loss: 0.00e+00 | test_loss: 2.68e-01 | reg: 7.84e+02 | : 100%|█| 5/5 [01:27<00:00, 17.50s/it\n"
          ]
        },
        {
          "name": "stdout",
          "output_type": "stream",
          "text": [
            "saving model version 0.4\n",
            "Training Accuracy : 1.0\n",
            "Test Accuracy : 0.9949748516082764\n",
            "\n",
            "Training on Task 5: 8 vs 9\n"
          ]
        },
        {
          "name": "stderr",
          "output_type": "stream",
          "text": [
            "| train_loss: 1.73e-05 | test_loss: 5.46e-01 | reg: 8.30e+02 | : 100%|█| 5/5 [01:40<00:00, 20.01s/it"
          ]
        },
        {
          "name": "stdout",
          "output_type": "stream",
          "text": [
            "saving model version 0.5\n",
            "Training Accuracy : 1.0\n",
            "Test Accuracy : 0.982367753982544\n"
          ]
        },
        {
          "name": "stderr",
          "output_type": "stream",
          "text": [
            "\n"
          ]
        }
      ],
      "source": [
        "N=5\n",
        "\n",
        "for task_num, (digit1, digit2) in enumerate(tasks, 1):\n",
        "    print(f\"\\nTraining on Task {task_num}: {digit1} vs {digit2}\")\n",
        "    task_dataset = get_task_dataset(mnist_dataset, digit1, digit2)\n",
        "    task_dataset['train_input'] = task_dataset['train_input'].squeeze().reshape((-1,784))\n",
        "    task_dataset['test_input'] = task_dataset['test_input'].squeeze().reshape((-1,784))\n",
        "    labels = task_dataset['train_label']\n",
        "    labels = torch.where(labels == digit1, torch.tensor(0), labels)\n",
        "    labels = torch.where(labels == digit2, torch.tensor(1), labels)\n",
        "    task_dataset['train_label'] = labels\n",
        "\n",
        "    labels = task_dataset['test_label']\n",
        "    labels = torch.where(labels == digit1, torch.tensor(0), labels)\n",
        "    labels = torch.where(labels == digit2, torch.tensor(1), labels)\n",
        "    task_dataset['test_label'] = labels\n",
        "\n",
        "    dataloader = DataLoader(task_dataset, batch_size=64, shuffle=True)\n",
        "    results = model.fit(task_dataset, \n",
        "                        opt=\"LBFGS\",\n",
        "                        metrics=(train_acc, test_acc),\n",
        "                        loss_fn=torch.nn.CrossEntropyLoss(),\n",
        "                        steps=N, update_grid=False)\n",
        "    print('Training Accuracy :', results['train_acc'][-1])\n",
        "    print('Test Accuracy :', results['test_acc'][-1])\n"
      ]
    },
    {
      "cell_type": "code",
      "execution_count": 95,
      "metadata": {},
      "outputs": [
        {
          "name": "stdout",
          "output_type": "stream",
          "text": [
            "\n",
            "Training on Task 1: 0 vs 1\n",
            "Training Accuracy : tensor(0.4427)\n",
            "Test Accuracy : tensor(0.3924)\n",
            "\n",
            "Training on Task 2: 2 vs 3\n",
            "Training Accuracy : tensor(0.6595)\n",
            "Test Accuracy : tensor(0.6504)\n",
            "\n",
            "Training on Task 3: 4 vs 5\n",
            "Training Accuracy : tensor(0.2168)\n",
            "Test Accuracy : tensor(0.2347)\n",
            "\n",
            "Training on Task 4: 6 vs 7\n",
            "Training Accuracy : tensor(0.9112)\n",
            "Test Accuracy : tensor(0.9146)\n",
            "\n",
            "Training on Task 5: 8 vs 9\n",
            "Training Accuracy : tensor(0.9962)\n",
            "Test Accuracy : tensor(0.9975)\n"
          ]
        }
      ],
      "source": [
        "for task_num, (digit1, digit2) in enumerate(tasks, 1):\n",
        "    print(f\"\\nTraining on Task {task_num}: {digit1} vs {digit2}\")\n",
        "    task_dataset = get_task_dataset(mnist_dataset, digit1, digit2)\n",
        "    task_dataset['train_input'] = task_dataset['train_input'].squeeze().reshape((-1,784))\n",
        "    task_dataset['test_input'] = task_dataset['test_input'].squeeze().reshape((-1,784))\n",
        "    labels = task_dataset['train_label']\n",
        "    labels = torch.where(labels == digit1, torch.tensor(0), labels)\n",
        "    labels = torch.where(labels == digit2, torch.tensor(1), labels)\n",
        "    task_dataset['train_label'] = labels\n",
        "\n",
        "    labels = task_dataset['test_label']\n",
        "    labels = torch.where(labels == digit1, torch.tensor(0), labels)\n",
        "    labels = torch.where(labels == digit2, torch.tensor(1), labels)\n",
        "    task_dataset['test_label'] = labels\n",
        "\n",
        "    print('Training Accuracy :', train_acc())\n",
        "    print('Test Accuracy :', test_acc())"
      ]
    },
    {
      "cell_type": "markdown",
      "metadata": {},
      "source": [
        "<div style=\"border-radius:10px; border:#DEB887 solid; padding: 15px; background-color: green; font-size:100%; text-align:left\">\n",
        "\n",
        "<h3 align=\"center\"><font color='white'>💡 Summary from above :</font></h3>\n",
        "\n",
        "1. Neural Network architecture is much better than KAN \n"
      ]
    }
  ],
  "metadata": {
    "accelerator": "GPU",
    "colab": {
      "collapsed_sections": [
        "7RE1svm9cXkX",
        "D7ERosp1iM17",
        "CBD58aME1Rvd",
        "tbhg0iWQ1FX-"
      ],
      "gpuType": "L4",
      "machine_shape": "hm",
      "provenance": []
    },
    "kernelspec": {
      "display_name": "Python 3",
      "name": "python3"
    },
    "language_info": {
      "codemirror_mode": {
        "name": "ipython",
        "version": 3
      },
      "file_extension": ".py",
      "mimetype": "text/x-python",
      "name": "python",
      "nbconvert_exporter": "python",
      "pygments_lexer": "ipython3",
      "version": "3.8.20"
    }
  },
  "nbformat": 4,
  "nbformat_minor": 0
}
